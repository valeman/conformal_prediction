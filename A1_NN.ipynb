{
 "cells": [
  {
   "cell_type": "markdown",
   "metadata": {},
   "source": [
    "# Nearest Neighbor Classification - KNN and Conformal Prediction"
   ]
  },
  {
   "cell_type": "markdown",
   "metadata": {},
   "source": [
    "* [Importing libraries](#Importing-libraries)\n",
    "* [Loading Data](#Loading-Data)\n",
    "* [Custom functions](#Custom-functions)\n",
    "* [Prediction algorithm KNN](#Prediction-algorithm-KNN)\n",
    "* [Running prediction for Iris](#Running-prediction-for-Iris)\n",
    "* [Running prediction for Ionosphere](#Running-prediction-for-Ionosphere)\n",
    "* [Choosing best K for Iris](#Choosing-best-K-for-Iris)\n",
    "* [Choosing best K for Ionosphere](#Choosing-best-K-for-Ionosphere)\n",
    "* [Conformal Prediction](#Conformal-Prediction)\n",
    "* [Conformal Prediction Algorithm](#Conformal-Prediction-Algorithm)\n",
    "* [Running Conformal Prediction for Iris ](#Running-Conformal-Prediction-for-Iris)\n",
    "* [Running Conformal Prediction for Ionosphere ](#Running-Conformal-Prediction-for-Ionosphere)"
   ]
  },
  {
   "cell_type": "markdown",
   "metadata": {},
   "source": [
    "## Importing libraries "
   ]
  },
  {
   "cell_type": "code",
   "execution_count": 1,
   "metadata": {},
   "outputs": [],
   "source": [
    "import sys\n",
    "import time\n",
    "\n",
    "import math\n",
    "import numpy as np\n",
    "import matplotlib.pyplot as plt\n",
    "\n",
    "from sklearn.datasets import load_iris\n",
    "from sklearn.model_selection import train_test_split"
   ]
  },
  {
   "cell_type": "markdown",
   "metadata": {},
   "source": [
    "## Loading Data"
   ]
  },
  {
   "cell_type": "code",
   "execution_count": 2,
   "metadata": {},
   "outputs": [],
   "source": [
    "iris_data = load_iris()\n",
    "ionosphere_data = np.genfromtxt(\"ionosphere.txt\", delimiter=',', names=True, dtype=None)"
   ]
  },
  {
   "cell_type": "code",
   "execution_count": 3,
   "metadata": {},
   "outputs": [],
   "source": [
    "iris_data\n",
    "\n",
    "iris_X = iris_data['data']\n",
    "iris_y = iris_data['target']"
   ]
  },
  {
   "cell_type": "code",
   "execution_count": 4,
   "metadata": {},
   "outputs": [],
   "source": [
    "ionosphere_data\n",
    "list_data = [list(x) for x in ionosphere_data]\n",
    "iono_X = []\n",
    "iono_y = []\n",
    "for i,d in enumerate(list_data):\n",
    "    iono_X.append([x for j,x in enumerate(d) if j!=len(d)-1])\n",
    "    iono_y.append([x for j,x in enumerate(d) if j==len(d)-1])\n",
    "\n",
    "iono_X = np.array(iono_X)\n",
    "iono_y = np.hstack(iono_y)\n",
    "iono_y = np.where(iono_y == 1, 1, 0) #converting to 0 and 1 for simplicity\n"
   ]
  },
  {
   "cell_type": "markdown",
   "metadata": {},
   "source": [
    "___The data consists of one duplicate value, which will result in `0` euclidean distance, which we will omit at that part___"
   ]
  },
  {
   "cell_type": "code",
   "execution_count": 5,
   "metadata": {},
   "outputs": [
    {
     "name": "stdout",
     "output_type": "stream",
     "text": [
      "150 350\n",
      "149 349\n"
     ]
    }
   ],
   "source": [
    "str_X = [str(i) for i in iris_X]\n",
    "str_X1 = [str(i) for i in iono_X]\n",
    "print(len(str_X), len(str_X1))\n",
    "\n",
    "print(len(set(str_X)), len(set(str_X1)))"
   ]
  },
  {
   "cell_type": "markdown",
   "metadata": {},
   "source": [
    "##  Custom functions"
   ]
  },
  {
   "cell_type": "code",
   "execution_count": 6,
   "metadata": {},
   "outputs": [],
   "source": [
    "def sort_it(list_to_sort):    \n",
    "    try:\n",
    "        for i in range(len(list_to_sort)):\n",
    "            for j in range(len(list_to_sort) - 1):\n",
    "                if list_to_sort[j] > list_to_sort[j+1]:\n",
    "                    list_to_sort[j], list_to_sort[j + 1] = list_to_sort[j + 1], list_to_sort[j]\n",
    "                \n",
    "        return list_to_sort\n",
    "    except:\n",
    "        print(sys.exc_info())\n",
    "        \n",
    "def rank_it(array_list):\n",
    "    array_len = len(array_list)\n",
    "    rank_array = [0 for x in range(array_len)]\n",
    "    \n",
    "    array_meta = [(array_list[i], i) for i in range(array_len)]\n",
    "    array_meta.sort(key = lambda x: x[0])\n",
    "    \n",
    "    eq_rank = 1\n",
    "    a = 0\n",
    "    rank = 1\n",
    "    \n",
    "    while a < array_len:\n",
    "        b = a\n",
    "        while b < array_len - 1 and array_meta[b][0] == array_meta[b + 1][0]: \n",
    "            b += 1\n",
    "        eq_rank = (b - a) + 1\n",
    "  \n",
    "        for b in range(eq_rank): \n",
    "            item = array_meta[a+b][1] \n",
    "            rank_array[item] = (eq_rank - 1) + rank  \n",
    "  \n",
    "        rank += eq_rank \n",
    "        a += eq_rank\n",
    "  \n",
    "    return rank_array "
   ]
  },
  {
   "cell_type": "markdown",
   "metadata": {},
   "source": [
    "## Prediction algorithm KNN"
   ]
  },
  {
   "cell_type": "code",
   "execution_count": 7,
   "metadata": {},
   "outputs": [],
   "source": [
    "def run_prediction(X, y, test_size=0.3, train_size=0.7, random_state=3006, k=1):\n",
    "    \n",
    "    if(test_size+train_size > 1 or test_size+train_size < 0):\n",
    "        print(\"The sum of test_size and train_size should be between 0 and 1\")\n",
    "        return\n",
    "    \n",
    "    prediction = {\"predicted_list\" : [], \"accuracy\" : 0}\n",
    "    \n",
    "    try:\n",
    "        # splitting test train data\n",
    "        \n",
    "        X_train, X_test, y_train, y_test = train_test_split(X, y, test_size=test_size, train_size=train_size, random_state=random_state)\n",
    "\n",
    "        predicted_list = []\n",
    "    \n",
    "        # training on X_train, y_train by calculating Euclidean distances\n",
    "        for d in range(len(X_test)):\n",
    "            eucl_distances = []\n",
    "            for i in range(len(X_train)):\n",
    "                #eucl_distances.append([np.sqrt(np.sum(np.power(X_test[d,:] - X_train[i,:], 2))), i])\n",
    "                eucl_distances.append([np.linalg.norm(X_test[d,:] - X_train[i,:]), i]) #used linalg for faster calculation time\n",
    "                \n",
    "            eucl_distances = sort_it(eucl_distances)\n",
    "            #print(eucl_distances)\n",
    "    \n",
    "            targets = [y_train[eucl_distances[i][1]] for i in range(k)]\n",
    "            #print(targets)\n",
    "        \n",
    "            predicted_list.append(max(targets, key=targets.count))\n",
    "\n",
    "        #print(predicted_list)\n",
    "        prediction['predicted_list'] = predicted_list\n",
    "        prediction['accuracy'] = np.mean(prediction['predicted_list'] == y_test)\n",
    "        return prediction\n",
    "    \n",
    "    except:\n",
    "        print(sys.exc_info())"
   ]
  },
  {
   "cell_type": "markdown",
   "metadata": {},
   "source": [
    "### Running prediction for Iris"
   ]
  },
  {
   "cell_type": "code",
   "execution_count": 8,
   "metadata": {},
   "outputs": [
    {
     "name": "stdout",
     "output_type": "stream",
     "text": [
      "0.9555555555555556\n"
     ]
    }
   ],
   "source": [
    "try :\n",
    "    nn = run_prediction(iris_X, iris_y, test_size=0.3,train_size=0.7, random_state=3006, k=1)\n",
    "    print(nn[\"accuracy\"])\n",
    "except:\n",
    "    print(sys.exc_info()) \n"
   ]
  },
  {
   "cell_type": "markdown",
   "metadata": {},
   "source": [
    "### Running prediction for Ionosphere"
   ]
  },
  {
   "cell_type": "code",
   "execution_count": 9,
   "metadata": {},
   "outputs": [
    {
     "name": "stdout",
     "output_type": "stream",
     "text": [
      "0.9142857142857143\n"
     ]
    }
   ],
   "source": [
    "try :\n",
    "    nn = run_prediction(iono_X, iono_y, test_size=0.3,train_size=0.7, random_state=3006, k=1)\n",
    "    print(nn[\"accuracy\"])\n",
    "except:\n",
    "    print(sys.exc_info()) "
   ]
  },
  {
   "cell_type": "markdown",
   "metadata": {},
   "source": [
    "### Choosing best K for Iris"
   ]
  },
  {
   "cell_type": "code",
   "execution_count": 10,
   "metadata": {},
   "outputs": [
    {
     "name": "stdout",
     "output_type": "stream",
     "text": [
      "['0.96', '0.96', '0.96', '0.96', '0.98', '0.98', '1.00', '1.00', '1.00', '1.00', '1.00', '0.98', '0.98', '0.98', '1.00', '0.98', '1.00', '1.00', '1.00', '1.00', '1.00', '0.98', '0.98', '0.98']\n"
     ]
    },
    {
     "data": {
      "image/png": "[encoded data removed]",
      "text/plain": [
       "<Figure size 432x288 with 1 Axes>"
      ]
     },
     "metadata": {
      "needs_background": "light"
     },
     "output_type": "display_data"
    }
   ],
   "source": [
    "k_neighbors = list(range(1,25))\n",
    "accuracy_scores = [run_prediction(iris_X, iris_y, test_size=0.3,train_size=0.7, random_state=3006, k=s)[\"accuracy\"] for s in k_neighbors]\n",
    "print([\"{:.2f}\".format(t) for t in accuracy_scores])\n",
    "\n",
    "plt.plot(k_neighbors, accuracy_scores)\n",
    "plt.xlabel(\"K\")\n",
    "plt.ylabel(\"Accuracy\")\n",
    "plt.show()"
   ]
  },
  {
   "cell_type": "markdown",
   "metadata": {},
   "source": [
    "###  Choosing best K for Ionosphere"
   ]
  },
  {
   "cell_type": "code",
   "execution_count": 11,
   "metadata": {},
   "outputs": [
    {
     "name": "stdout",
     "output_type": "stream",
     "text": [
      "['0.91', '0.91', '0.87', '0.90', '0.87', '0.87', '0.85', '0.86', '0.86', '0.86', '0.86', '0.86', '0.87', '0.87', '0.87', '0.87', '0.87', '0.87', '0.87', '0.87', '0.87', '0.87', '0.87', '0.87']\n"
     ]
    },
    {
     "data": {
      "image/png": "[encoded data removed]",
      "text/plain": [
       "<Figure size 432x288 with 1 Axes>"
      ]
     },
     "metadata": {
      "needs_background": "light"
     },
     "output_type": "display_data"
    }
   ],
   "source": [
    "k_neighbors = list(range(1,25))\n",
    "accuracy_scores = [run_prediction(iono_X, iono_y, test_size=0.3,train_size=0.7, random_state=3006, k=s)[\"accuracy\"] for s in k_neighbors]\n",
    "print([\"{:.2f}\".format(t) for t in accuracy_scores])\n",
    "\n",
    "plt.plot(k_neighbors, accuracy_scores)\n",
    "plt.xlabel(\"K\")\n",
    "plt.ylabel(\"Accuracy\")\n",
    "plt.show()"
   ]
  },
  {
   "cell_type": "code",
   "execution_count": null,
   "metadata": {},
   "outputs": [],
   "source": []
  },
  {
   "cell_type": "markdown",
   "metadata": {},
   "source": [
    "## Conformal Prediction Algorithm"
   ]
  },
  {
   "cell_type": "code",
   "execution_count": 12,
   "metadata": {},
   "outputs": [],
   "source": [
    "def conformal_predictor(X, y, test_size=0.3, train_size=0.7, random_state=3006):\n",
    "    if(test_size+train_size > 1 or test_size+train_size < 0):\n",
    "        print(\"The sum of test_size and train_size should be between 0 and 1\")\n",
    "        return\n",
    "    \n",
    "    cf_prediction = { \"p_values\" : [], \"predicted_list\" : [], \"false_p_value\" : 0, \"accuracy\" : 0}\n",
    "    \n",
    "    try:\n",
    "        predicted_list = []\n",
    "        p_values = []\n",
    "        \n",
    "        # splitting test train data\n",
    "        X_train, X_test, y_train, y_test = train_test_split(X, y, test_size=test_size, train_size=train_size, random_state=random_state)\n",
    "        list_y_set = list(set(y_train))\n",
    "        \n",
    "        for i in range(len(X_test)):\n",
    "            conformity_scores = [[] for j in range(len(list_y_set))]\n",
    "            \n",
    "            for idx_k, val_k in enumerate(list_y_set):\n",
    "                extra_X_train = np.concatenate((X_train, [X_test[i]]), axis = 0)\n",
    "                extra_y_train = np.concatenate((y_train, [val_k]), axis = 0) \n",
    "                \n",
    "                for cur_idx, cur_elem in enumerate(extra_X_train):\n",
    "                    y_list = [[] for j in range(len(list_y_set))]\n",
    "\n",
    "                    excluded_list = list(extra_X_train)\n",
    "                    del excluded_list[cur_idx]\n",
    "                    excluded_y = list(extra_y_train)\n",
    "                    del excluded_y[cur_idx]\n",
    "\n",
    "                    for iter_index, iter_elem in enumerate(excluded_list): \n",
    "                        if(len(iter_elem) < 5): #this method works fast for lesser elements in an array\n",
    "                            eucl_distance = math.sqrt(sum([(a - b)**2 for a, b in zip(cur_elem, iter_elem)]))\n",
    "                        else: #used linalg for faster calculation time\n",
    "                            eucl_distance = np.linalg.norm(cur_elem - iter_elem) \n",
    "                        \n",
    "                        #eucl_distance = np.sqrt(np.sum(np.power(cur_elem - iter_elem, 2))) #traditional way\n",
    "                        index_to_append = excluded_y[iter_index]\n",
    "                \n",
    "                        #we will get 0 euclidean distance because one duplicate element is present in both datasets\n",
    "                        if(eucl_distance == 0): \n",
    "                            continue\n",
    "                        if(len(y_list[index_to_append]) > 0):\n",
    "                            if (eucl_distance < y_list[index_to_append][0]):\n",
    "                                y_list[index_to_append][0] = (eucl_distance)\n",
    "                        else:\n",
    "                            y_list[index_to_append].append(eucl_distance) \n",
    "                \n",
    "                    # conformity score calculation\n",
    "                    same_class_distance = min([x for m,x in enumerate(y_list) if m == idx_k])[0]\n",
    "                    different_class_distance = min([x for m,x in enumerate(y_list) if m != idx_k])[0]\n",
    "                    conformity_scores[idx_k].append(different_class_distance/same_class_distance)\n",
    "\n",
    "            # rank calculation\n",
    "            p_vals = []\n",
    "            for idx_k, val_k in enumerate(list_y_set):\n",
    "                rank = rank_it(conformity_scores[idx_k])\n",
    "                p_val = rank[len(rank)-1]/len(rank)\n",
    "                p_vals.append(p_val)\n",
    "            \n",
    "            predicted_list.append(p_vals.index(max(p_vals)))\n",
    "            p_values.append(p_vals)\n",
    "        \n",
    "        avg = []\n",
    "        for i, p in enumerate(p_values):\n",
    "            avg.extend([b for a,b in enumerate(p) if a != predicted_list[i]])\n",
    "            \n",
    "        avg_false_pval = sum(avg)/len(avg)\n",
    "        cf_prediction[\"predicted_list\"] = predicted_list\n",
    "        cf_prediction[\"p_values\"] = p_values\n",
    "        cf_prediction[\"false_p_value\"] = avg_false_pval\n",
    "        cf_prediction[\"accuracy\"] = np.mean(predicted_list == y_test)\n",
    "        return cf_prediction\n",
    "        \n",
    "    except:\n",
    "        print(sys.exc_info())\n",
    "        "
   ]
  },
  {
   "cell_type": "markdown",
   "metadata": {},
   "source": [
    "## Running Conformal Prediction for Iris "
   ]
  },
  {
   "cell_type": "markdown",
   "metadata": {},
   "source": [
    "* _The entire p values and predicted list can be found under dictionary `cf`_\n",
    "* _The algorithm for iris dataset runs for about `6 seconds`_"
   ]
  },
  {
   "cell_type": "code",
   "execution_count": 13,
   "metadata": {},
   "outputs": [
    {
     "name": "stdout",
     "output_type": "stream",
     "text": [
      "The average false p value : 0.17735849056603772 \n",
      "The accuracy of prediction : 0.9555555555555556 \n",
      "The test error rate is : 0.0444444444444444\n",
      "\n",
      "Time elapsed : 5.668936014175415 seconds\n"
     ]
    }
   ],
   "source": [
    "start_time = time.time()\n",
    "try :\n",
    "    cf = conformal_predictor(iris_X, iris_y, test_size=0.3,train_size=0.7, random_state=3006)\n",
    "    #print(cf)\n",
    "    print(\"The average false p value : {} \\nThe accuracy of prediction : {} \\nThe test error rate is : {}\".format(cf[\"false_p_value\"], cf[\"accuracy\"], 1-cf[\"accuracy\"]))\n",
    "except:\n",
    "    print(sys.exc_info()) \n",
    "print(\"\\nTime elapsed : %s seconds\" % (time.time() - start_time))"
   ]
  },
  {
   "cell_type": "markdown",
   "metadata": {},
   "source": [
    "## Running Conformal Prediction for Ionosphere "
   ]
  },
  {
   "cell_type": "markdown",
   "metadata": {},
   "source": [
    "* _The entire p values and predicted list can be found under dictionary `cf`_\n",
    "* _The algorithm for ionosphere dataset runs for about `50 seconds`_"
   ]
  },
  {
   "cell_type": "code",
   "execution_count": null,
   "metadata": {},
   "outputs": [],
   "source": [
    "start_time = time.time()\n",
    "try :\n",
    "    cf = conformal_predictor(iono_X, iono_y, test_size=0.3,train_size=0.7, random_state=3006)\n",
    "    #print(cf)\n",
    "    print(\"The average false p value : {} \\nThe accuracy of prediction : {} \\nThe test error rate is : {}\".format(cf[\"false_p_value\"], cf[\"accuracy\"], 1-cf[\"accuracy\"]))\n",
    "except:\n",
    "    print(sys.exc_info()) \n",
    "print(\"\\nTime elapsed : %s seconds\" % (time.time() - start_time))"
   ]
  },
  {
   "cell_type": "markdown",
   "metadata": {},
   "source": [
    "## Method chaining "
   ]
  },
  {
   "cell_type": "code",
   "execution_count": null,
   "metadata": {},
   "outputs": [],
   "source": [
    "def class knn_predictor(): # runs parallelly for multiple instances, makes less time complexity\n",
    "    # self instance init\n",
    "    # predicton, accuracy"
   ]
  }
 ],
 "metadata": {
  "kernelspec": {
   "display_name": "Python 3",
   "language": "python",
   "name": "python3"
  },
  "language_info": {
   "codemirror_mode": {
    "name": "ipython",
    "version": 3
   },
   "file_extension": ".py",
   "mimetype": "text/x-python",
   "name": "python",
   "nbconvert_exporter": "python",
   "pygments_lexer": "ipython3",
   "version": "3.7.1"
  }
 },
 "nbformat": 4,
 "nbformat_minor": 2
}
